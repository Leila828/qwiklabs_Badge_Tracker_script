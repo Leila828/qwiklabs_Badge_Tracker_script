{
  "cells": [
    {
      "cell_type": "markdown",
      "metadata": {
        "id": "view-in-github",
        "colab_type": "text"
      },
      "source": [
        "<a href=\"https://colab.research.google.com/github/Leila828/qwiklabs_Badge_Tracker_script/blob/main/Cloud_Badge_Tracker.ipynb\" target=\"_parent\"><img src=\"https://colab.research.google.com/assets/colab-badge.svg\" alt=\"Open In Colab\"/></a>"
      ]
    },
    {
      "cell_type": "code",
      "execution_count": null,
      "metadata": {
        "id": "n_rQXzfs5bsd"
      },
      "outputs": [],
      "source": [
        "from re import sub\n",
        "\n",
        "import pandas as pd\n",
        "import requests\n",
        "from bs4 import BeautifulSoup\n",
        "\n",
        "data = pd.read_csv(\"Cloudinput.csv\")\n",
        "rows = []\n",
        "\n",
        "Track_A = [\n",
        "    \"Create and Manage Cloud Resources\",\n",
        "    \"Perform Foundational Infrastructure Tasks in Google Cloud\",\n",
        "    \"Set Up and Configure a Cloud Environment in Google Cloud\",\n",
        "    \"Build and Secure Networks in Google Cloud\"\n",
        "]\n",
        "Track_B = [\n",
        "    \"Create and Manage Cloud Resources\",\n",
        "    \"Perform Foundational Data\",\n",
        "    \"Insights from Data with BigQuery\",\n",
        "    \"Create ML Models with BigQuery ML\"\n",
        "]\n",
        "Track_C = [\n",
        "    \"Serverless Cloud Run Development\",\n",
        "    \"Serverless Firebase Development\",\n",
        "    \"Optimize Costs for Google Kubernetes Engine\",\n",
        "    \"Automating Infrastructure on Google Cloud with Terraform\"\n",
        "]\n",
        "Track_D = [\n",
        "    \"Baseline: Infrastructure\",\n",
        "    \"DevOps Essentials\",\n",
        "    \"Implement DevOps in Google Cloud\",\n",
        "    \"Kubernetes in Google Cloud\",\n",
        "    \"Google Cloud Solutions I: Scaling Your Infrastructure\"\n",
        "]"
      ]
    },
    {
      "cell_type": "code",
      "execution_count": null,
      "metadata": {
        "id": "lj4R4aGd83Px"
      },
      "outputs": [],
      "source": [
        "data.head()"
      ]
    },
    {
      "cell_type": "code",
      "execution_count": null,
      "metadata": {
        "colab": {
          "base_uri": "https://localhost:8080/"
        },
        "id": "qCdLf-j18zLS",
        "outputId": "96b6eaf6-9e54-46bb-b246-f579dc54b05c"
      },
      "outputs": [
        {
          "output_type": "stream",
          "name": "stdout",
          "text": [
            "54\n"
          ]
        }
      ],
      "source": [
        "for row in data.itertuples():\n",
        "    name = row.name\n",
        "    profile_url = row.profile_url\n",
        "    response = requests.get(profile_url)\n",
        "    soup = BeautifulSoup(response.text, \"html.parser\")\n",
        "\n",
        "    badges = soup.select(\".ql-subhead-1\")\n",
        "\n",
        "    d = {\"name\": name, \"Track_A\": \"\",\"Track_B\": \"\",\"Track_C\": \"\",\"Track_D\": \"\", \"profile\": profile_url}\n",
        "    for index, item in enumerate(badges):\n",
        "        title = badges[index].getText().replace(\"\\n\", \"\")\n",
        "        if title in Track_A:\n",
        "            d[\"Track_A\"] += f\"{title}, \"\n",
        "        if title in Track_B:\n",
        "            d[\"Track_B\"] += f\"{title}, \"  \n",
        "        if title in Track_C:\n",
        "            d[\"Track_C\"] += f\"{title}, \"\n",
        "        if title in Track_D:\n",
        "            d[\"Track_D\"] += f\"{title}, \"          \n",
        "\n",
        "    rows.append(d)\n",
        "print(len(rows))\n",
        "for row in rows:\n",
        "    # remove trailing comma with a space\n",
        "    row[\"Track_A\"] = sub(pattern=\", $\", repl=\"\", string=row[\"Track_A\"])\n",
        "    row[\"Track_B\"] = sub(pattern=\", $\", repl=\"\", string=row[\"Track_B\"])\n",
        "    row[\"Track_C\"] = sub(pattern=\", $\", repl=\"\", string=row[\"Track_C\"])\n",
        "    row[\"Track_D\"] = sub(pattern=\", $\", repl=\"\", string=row[\"Track_D\"])\n",
        "    # count of badges to be earned yet\n",
        "    if len(row[\"Track_A\"]):\n",
        "        #row[\"badges_left_A\"] = len(Track_A) - len(row[\"Track_A\"].split(\",\"))\n",
        "        row[\"badges_TrackA\"] = len(row[\"Track_A\"].split(\",\"))\n",
        "    else:\n",
        "        row[\"badges_TrackA\"] = 0\n",
        "    if len(row[\"Track_B\"]):\n",
        "        #row[\"badges_left_B\"] = len(Track_B) - len(row[\"Track_B\"].split(\",\"))\n",
        "        row[\"badges_TrackB\"] = len(row[\"Track_B\"].split(\",\"))\n",
        "    else:\n",
        "        row[\"badges_TrackB\"] = 0\n",
        "    if len(row[\"Track_C\"]):\n",
        "        #row[\"badges_left_C\"] = len(Track_C) - len(row[\"Track_C\"].split(\",\"))\n",
        "        row[\"badges_TrackC\"] = len(row[\"Track_C\"].split(\",\"))\n",
        "    else:\n",
        "        row[\"badges_TrackC\"] = 0\n",
        "    if len(row[\"Track_D\"]):\n",
        "        #row[\"badges_left_D\"] = len(Track_D) - len(row[\"Track_D\"].split(\",\"))\n",
        "        row[\"badges_TrackD\"] = len(row[\"Track_D\"].split(\",\"))\n",
        "    else:\n",
        "        row[\"badges_TrackD\"] = 0\n"
      ]
    },
    {
      "cell_type": "code",
      "execution_count": null,
      "metadata": {
        "id": "yzEj6YxS3_lk"
      },
      "outputs": [],
      "source": [
        "header = [\"Name\", \"Track_A\",\"Track_B\",\"Track_C\",\"Track_D\", \"Profile URL\",\"badges_TrackA\",\"badges_TrackB\",\"badges_TrackC\",\"badges_TrackD\"]\n",
        "df = pd.DataFrame.from_dict(rows)\n"
      ]
    },
    {
      "cell_type": "code",
      "execution_count": null,
      "metadata": {
        "id": "lwKIpzt4450C"
      },
      "outputs": [],
      "source": [
        "df.to_csv(path_or_buf=\"Cloudoutput.csv\", header=header)"
      ]
    }
  ],
  "metadata": {
    "colab": {
      "provenance": [],
      "include_colab_link": true
    },
    "kernelspec": {
      "display_name": "Python 3",
      "name": "python3"
    },
    "language_info": {
      "name": "python"
    }
  },
  "nbformat": 4,
  "nbformat_minor": 0
}