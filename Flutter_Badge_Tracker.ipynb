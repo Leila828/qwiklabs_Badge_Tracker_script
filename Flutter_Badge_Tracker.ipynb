{
  "nbformat": 4,
  "nbformat_minor": 0,
  "metadata": {
    "colab": {
      "provenance": [],
      "include_colab_link": true
    },
    "kernelspec": {
      "name": "python3",
      "display_name": "Python 3"
    },
    "language_info": {
      "name": "python"
    }
  },
  "cells": [
    {
      "cell_type": "markdown",
      "metadata": {
        "id": "view-in-github",
        "colab_type": "text"
      },
      "source": [
        "<a href=\"https://colab.research.google.com/github/Leila828/qwiklabs_Badge_Tracker_script/blob/main/Flutter_Badge_Tracker.ipynb\" target=\"_parent\"><img src=\"https://colab.research.google.com/assets/colab-badge.svg\" alt=\"Open In Colab\"/></a>"
      ]
    },
    {
      "cell_type": "code",
      "execution_count": null,
      "metadata": {
        "id": "n_rQXzfs5bsd"
      },
      "outputs": [],
      "source": [
        "from re import sub\n",
        "\n",
        "import pandas as pd\n",
        "import requests\n",
        "from bs4 import BeautifulSoup\n",
        "\n",
        "data = pd.read_csv(\"Fltterinput.csv\")\n",
        "rows = []\n",
        "\n",
        "Track_A = [\n",
        "    \"Dart Essentials\",\n",
        "    \"Flutter Essentials\",\n",
        "    \"Flutter Development\",\n",
        "    \"Build Apps & Websites with Firebase\"\n",
        "]\n"
      ]
    },
    {
      "cell_type": "code",
      "source": [
        "data.head()"
      ],
      "metadata": {
        "id": "lj4R4aGd83Px"
      },
      "execution_count": null,
      "outputs": []
    },
    {
      "cell_type": "code",
      "source": [
        "for row in data.itertuples():\n",
        "    name = row.name\n",
        "    profile_url = row.profile_url\n",
        "    response = requests.get(profile_url)\n",
        "    soup = BeautifulSoup(response.text, \"html.parser\")\n",
        "\n",
        "    badges = soup.select(\".ql-subhead-1\")\n",
        "\n",
        "    d = {\"name\": name, \"Track_A\": \"\", \"profile\": profile_url}\n",
        "    for index, item in enumerate(badges):\n",
        "        title = badges[index].getText().replace(\"\\n\", \"\")\n",
        "        if title in Track_A:\n",
        "            d[\"Track_A\"] += f\"{title}, \"\n",
        "        \n",
        "\n",
        "    rows.append(d)\n",
        "print(len(rows))\n",
        "for row in rows:\n",
        "    # remove trailing comma with a space\n",
        "    row[\"Track_A\"] = sub(pattern=\", $\", repl=\"\", string=row[\"Track_A\"])\n",
        "\n",
        "    # count of badges to be earned yet\n",
        "    if len(row[\"Track_A\"]):\n",
        "        #row[\"badges_left_A\"] = len(Track_A) - len(row[\"Track_A\"].split(\",\"))\n",
        "        row[\"badges_TrackA\"] = len(row[\"Track_A\"].split(\",\"))\n",
        "    else:\n",
        "        row[\"badges_TrackA\"] = 0\n",
        "\n"
      ],
      "metadata": {
        "colab": {
          "base_uri": "https://localhost:8080/"
        },
        "id": "qCdLf-j18zLS",
        "outputId": "8556ab3d-39cb-4327-d89d-9fbc574fc985"
      },
      "execution_count": null,
      "outputs": [
        {
          "output_type": "stream",
          "name": "stdout",
          "text": [
            "56\n"
          ]
        }
      ]
    },
    {
      "cell_type": "code",
      "source": [
        "header = [\"Name\", \"Track_A\", \"Profile URL\",\"badges_TrackA\"]\n",
        "df = pd.DataFrame.from_dict(rows)\n"
      ],
      "metadata": {
        "id": "yzEj6YxS3_lk"
      },
      "execution_count": null,
      "outputs": []
    },
    {
      "cell_type": "code",
      "source": [
        "df.to_csv(path_or_buf=\"Flutteroutput.csv\", header=header)"
      ],
      "metadata": {
        "id": "lwKIpzt4450C"
      },
      "execution_count": null,
      "outputs": []
    }
  ]
}