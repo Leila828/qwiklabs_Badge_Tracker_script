{
  "nbformat": 4,
  "nbformat_minor": 0,
  "metadata": {
    "colab": {
      "provenance": [],
      "include_colab_link": true
    },
    "kernelspec": {
      "name": "python3",
      "display_name": "Python 3"
    },
    "language_info": {
      "name": "python"
    }
  },
  "cells": [
    {
      "cell_type": "markdown",
      "metadata": {
        "id": "view-in-github",
        "colab_type": "text"
      },
      "source": [
        "<a href=\"https://colab.research.google.com/github/Leila828/qwiklabs_Badge_Tracker_script/blob/main/ML_Badge_Tracker.ipynb\" target=\"_parent\"><img src=\"https://colab.research.google.com/assets/colab-badge.svg\" alt=\"Open In Colab\"/></a>"
      ]
    },
    {
      "cell_type": "code",
      "execution_count": null,
      "metadata": {
        "id": "n_rQXzfs5bsd"
      },
      "outputs": [],
      "source": [
        "from re import sub\n",
        "\n",
        "import pandas as pd\n",
        "import requests\n",
        "\n",
        "from bs4 import BeautifulSoup\n",
        "\n",
        "data = pd.read_csv(\"MLinput.csv\")\n",
        "rows = []\n",
        "\n",
        "Track_A = [\n",
        "    \"Machine Learning APIs\",\n",
        "    \"Create ML Models with BigQuery ML\",\n",
        "    \"Integrate with Machine Learning APIs\",\n",
        "    \"Intermediate ML: TensorFlow on GCP\",\n",
        "    \"Advanced ML: ML Infrastructure\"\n",
        "]\n",
        "Track_B = [\n",
        "    \"Create and Manage Cloud Resources\",\n",
        "    \"Perform Foundational Data\",\n",
        "    \"Insights from Data with BigQuery\",\n",
        "    \"Create ML Models with BigQuery ML\"\n",
        "]\n",
        "Track_C = [\n",
        "    \"BigQuery Basics for Data Analysts\",\n",
        "    \"Data Engineering\",\n",
        "    \"Baseline: Data\",\n",
        "    \"Insights from Data with BigQuery\",\n",
        "    \"Scientific Data Processing\"\n",
        "]\n",
        "Track_D = [\n",
        "    \"Engineer Data in Google Cloud\",\n",
        "    \"Integrate with Machine Learning APIs\",\n",
        "    \"Deploy and Manage Cloud Environments with Google Cloud\",\n",
        "    \"Deploy to Kubernetes in Google Cloud\"\n",
        "]"
      ]
    },
    {
      "cell_type": "code",
      "source": [
        "data.head()"
      ],
      "metadata": {
        "id": "lj4R4aGd83Px",
        "colab": {
          "base_uri": "https://localhost:8080/",
          "height": 250
        },
        "outputId": "4a4b66fb-ecd9-44b8-a424-52c347a3be72"
      },
      "execution_count": null,
      "outputs": [
        {
          "output_type": "execute_result",
          "data": {
            "text/plain": [
              "                                    name  \\\n",
              "0              kanounemerouane@gmail.com   \n",
              "1               esmael.saleh61@gmail.com   \n",
              "2  belloumi.karim.professional@gmail.com   \n",
              "3                      rmdan90@gmail.com   \n",
              "4               bendjedouattia@gmail.com   \n",
              "\n",
              "                                         profile_url  \n",
              "0  https://www.cloudskillsboost.google/public_pro...  \n",
              "1  https://www.cloudskillsboost.google/public_pro...  \n",
              "2  https://www.cloudskillsboost.google/public_pro...  \n",
              "3  https://www.cloudskillsboost.google/public_pro...  \n",
              "4  https://www.cloudskillsboost.google/public_pro...  "
            ],
            "text/html": [
              "\n",
              "  <div id=\"df-7d9ae1fd-366c-4af3-8964-71b0536d0437\">\n",
              "    <div class=\"colab-df-container\">\n",
              "      <div>\n",
              "<style scoped>\n",
              "    .dataframe tbody tr th:only-of-type {\n",
              "        vertical-align: middle;\n",
              "    }\n",
              "\n",
              "    .dataframe tbody tr th {\n",
              "        vertical-align: top;\n",
              "    }\n",
              "\n",
              "    .dataframe thead th {\n",
              "        text-align: right;\n",
              "    }\n",
              "</style>\n",
              "<table border=\"1\" class=\"dataframe\">\n",
              "  <thead>\n",
              "    <tr style=\"text-align: right;\">\n",
              "      <th></th>\n",
              "      <th>name</th>\n",
              "      <th>profile_url</th>\n",
              "    </tr>\n",
              "  </thead>\n",
              "  <tbody>\n",
              "    <tr>\n",
              "      <th>0</th>\n",
              "      <td>kanounemerouane@gmail.com</td>\n",
              "      <td>https://www.cloudskillsboost.google/public_pro...</td>\n",
              "    </tr>\n",
              "    <tr>\n",
              "      <th>1</th>\n",
              "      <td>esmael.saleh61@gmail.com</td>\n",
              "      <td>https://www.cloudskillsboost.google/public_pro...</td>\n",
              "    </tr>\n",
              "    <tr>\n",
              "      <th>2</th>\n",
              "      <td>belloumi.karim.professional@gmail.com</td>\n",
              "      <td>https://www.cloudskillsboost.google/public_pro...</td>\n",
              "    </tr>\n",
              "    <tr>\n",
              "      <th>3</th>\n",
              "      <td>rmdan90@gmail.com</td>\n",
              "      <td>https://www.cloudskillsboost.google/public_pro...</td>\n",
              "    </tr>\n",
              "    <tr>\n",
              "      <th>4</th>\n",
              "      <td>bendjedouattia@gmail.com</td>\n",
              "      <td>https://www.cloudskillsboost.google/public_pro...</td>\n",
              "    </tr>\n",
              "  </tbody>\n",
              "</table>\n",
              "</div>\n",
              "      <button class=\"colab-df-convert\" onclick=\"convertToInteractive('df-7d9ae1fd-366c-4af3-8964-71b0536d0437')\"\n",
              "              title=\"Convert this dataframe to an interactive table.\"\n",
              "              style=\"display:none;\">\n",
              "        \n",
              "  <svg xmlns=\"http://www.w3.org/2000/svg\" height=\"24px\"viewBox=\"0 0 24 24\"\n",
              "       width=\"24px\">\n",
              "    <path d=\"M0 0h24v24H0V0z\" fill=\"none\"/>\n",
              "    <path d=\"M18.56 5.44l.94 2.06.94-2.06 2.06-.94-2.06-.94-.94-2.06-.94 2.06-2.06.94zm-11 1L8.5 8.5l.94-2.06 2.06-.94-2.06-.94L8.5 2.5l-.94 2.06-2.06.94zm10 10l.94 2.06.94-2.06 2.06-.94-2.06-.94-.94-2.06-.94 2.06-2.06.94z\"/><path d=\"M17.41 7.96l-1.37-1.37c-.4-.4-.92-.59-1.43-.59-.52 0-1.04.2-1.43.59L10.3 9.45l-7.72 7.72c-.78.78-.78 2.05 0 2.83L4 21.41c.39.39.9.59 1.41.59.51 0 1.02-.2 1.41-.59l7.78-7.78 2.81-2.81c.8-.78.8-2.07 0-2.86zM5.41 20L4 18.59l7.72-7.72 1.47 1.35L5.41 20z\"/>\n",
              "  </svg>\n",
              "      </button>\n",
              "      \n",
              "  <style>\n",
              "    .colab-df-container {\n",
              "      display:flex;\n",
              "      flex-wrap:wrap;\n",
              "      gap: 12px;\n",
              "    }\n",
              "\n",
              "    .colab-df-convert {\n",
              "      background-color: #E8F0FE;\n",
              "      border: none;\n",
              "      border-radius: 50%;\n",
              "      cursor: pointer;\n",
              "      display: none;\n",
              "      fill: #1967D2;\n",
              "      height: 32px;\n",
              "      padding: 0 0 0 0;\n",
              "      width: 32px;\n",
              "    }\n",
              "\n",
              "    .colab-df-convert:hover {\n",
              "      background-color: #E2EBFA;\n",
              "      box-shadow: 0px 1px 2px rgba(60, 64, 67, 0.3), 0px 1px 3px 1px rgba(60, 64, 67, 0.15);\n",
              "      fill: #174EA6;\n",
              "    }\n",
              "\n",
              "    [theme=dark] .colab-df-convert {\n",
              "      background-color: #3B4455;\n",
              "      fill: #D2E3FC;\n",
              "    }\n",
              "\n",
              "    [theme=dark] .colab-df-convert:hover {\n",
              "      background-color: #434B5C;\n",
              "      box-shadow: 0px 1px 3px 1px rgba(0, 0, 0, 0.15);\n",
              "      filter: drop-shadow(0px 1px 2px rgba(0, 0, 0, 0.3));\n",
              "      fill: #FFFFFF;\n",
              "    }\n",
              "  </style>\n",
              "\n",
              "      <script>\n",
              "        const buttonEl =\n",
              "          document.querySelector('#df-7d9ae1fd-366c-4af3-8964-71b0536d0437 button.colab-df-convert');\n",
              "        buttonEl.style.display =\n",
              "          google.colab.kernel.accessAllowed ? 'block' : 'none';\n",
              "\n",
              "        async function convertToInteractive(key) {\n",
              "          const element = document.querySelector('#df-7d9ae1fd-366c-4af3-8964-71b0536d0437');\n",
              "          const dataTable =\n",
              "            await google.colab.kernel.invokeFunction('convertToInteractive',\n",
              "                                                     [key], {});\n",
              "          if (!dataTable) return;\n",
              "\n",
              "          const docLinkHtml = 'Like what you see? Visit the ' +\n",
              "            '<a target=\"_blank\" href=https://colab.research.google.com/notebooks/data_table.ipynb>data table notebook</a>'\n",
              "            + ' to learn more about interactive tables.';\n",
              "          element.innerHTML = '';\n",
              "          dataTable['output_type'] = 'display_data';\n",
              "          await google.colab.output.renderOutput(dataTable, element);\n",
              "          const docLink = document.createElement('div');\n",
              "          docLink.innerHTML = docLinkHtml;\n",
              "          element.appendChild(docLink);\n",
              "        }\n",
              "      </script>\n",
              "    </div>\n",
              "  </div>\n",
              "  "
            ]
          },
          "metadata": {},
          "execution_count": 3
        }
      ]
    },
    {
      "cell_type": "code",
      "source": [
        "for row in data.itertuples():\n",
        "    name = row.name\n",
        "    profile_url = row.profile_url\n",
        "    response = requests.get(profile_url)\n",
        "    soup = BeautifulSoup(response.text, \"html.parser\")\n",
        "\n",
        "    badges = soup.select(\".ql-subhead-1\")\n",
        "\n",
        "    d = {\"name\": name, \"Track_A\": \"\",\"Track_B\": \"\",\"Track_C\": \"\",\"Track_D\": \"\", \"profile\": profile_url}\n",
        "    for index, item in enumerate(badges):\n",
        "        title = badges[index].getText().replace(\"\\n\", \"\")\n",
        "        if title in Track_A:\n",
        "            d[\"Track_A\"] += f\"{title}, \"\n",
        "        if title in Track_B:\n",
        "            d[\"Track_B\"] += f\"{title}, \"  \n",
        "        if title in Track_C:\n",
        "            d[\"Track_C\"] += f\"{title}, \"\n",
        "        if title in Track_D:\n",
        "            d[\"Track_D\"] += f\"{title}, \"          \n",
        "\n",
        "    rows.append(d)\n",
        "print(len(rows))\n",
        "for row in rows:\n",
        "    # remove trailing comma with a space\n",
        "    row[\"Track_A\"] = sub(pattern=\", $\", repl=\"\", string=row[\"Track_A\"])\n",
        "    row[\"Track_B\"] = sub(pattern=\", $\", repl=\"\", string=row[\"Track_B\"])\n",
        "    row[\"Track_C\"] = sub(pattern=\", $\", repl=\"\", string=row[\"Track_C\"])\n",
        "    row[\"Track_D\"] = sub(pattern=\", $\", repl=\"\", string=row[\"Track_D\"])\n",
        "    # count of badges to be earned yet\n",
        "    if len(row[\"Track_A\"]):\n",
        "        #row[\"badges_left_A\"] = len(Track_A) - len(row[\"Track_A\"].split(\",\"))\n",
        "        row[\"badges_TrackA\"] = len(row[\"Track_A\"].split(\",\"))\n",
        "    else:\n",
        "        row[\"badges_TrackA\"] = 0\n",
        "    if len(row[\"Track_B\"]):\n",
        "        #row[\"badges_left_B\"] = len(Track_B) - len(row[\"Track_B\"].split(\",\"))\n",
        "        row[\"badges_TrackB\"] = len(row[\"Track_B\"].split(\",\"))\n",
        "    else:\n",
        "        row[\"badges_TrackB\"] = 0\n",
        "    if len(row[\"Track_C\"]):\n",
        "        #row[\"badges_left_C\"] = len(Track_C) - len(row[\"Track_C\"].split(\",\"))\n",
        "        row[\"badges_TrackC\"] = len(row[\"Track_C\"].split(\",\"))\n",
        "    else:\n",
        "        row[\"badges_TrackC\"] = 0        \n",
        "    if len(row[\"Track_D\"]):\n",
        "        #row[\"badges_left_D\"] = len(Track_D) - len(row[\"Track_D\"].split(\",\"))\n",
        "        row[\"badges_TrackD\"] = len(row[\"Track_D\"].split(\",\"))\n",
        "    else:\n",
        "        row[\"badges_TrackD\"] = 0\n",
        "\n"
      ],
      "metadata": {
        "colab": {
          "base_uri": "https://localhost:8080/"
        },
        "id": "qCdLf-j18zLS",
        "outputId": "cb23c2f1-aac5-4655-f86a-b5ee64317ebc"
      },
      "execution_count": null,
      "outputs": [
        {
          "output_type": "stream",
          "name": "stdout",
          "text": [
            "37\n"
          ]
        }
      ]
    },
    {
      "cell_type": "code",
      "source": [
        "print(df)"
      ],
      "metadata": {
        "id": "3VBQy2cT4ZxD"
      },
      "execution_count": null,
      "outputs": []
    },
    {
      "cell_type": "code",
      "source": [
        "header = [\"Name\", \"Track_A\",\"Track_B\",\"Track_C\",\"Track_D\", \"Profile URL\",\"badges_TrackA\",\"badges_TrackB\",\"badges_TrackC\",\"badges_TrackD\"]\n",
        "df = pd.DataFrame.from_dict(rows)\n"
      ],
      "metadata": {
        "id": "yzEj6YxS3_lk"
      },
      "execution_count": null,
      "outputs": []
    },
    {
      "cell_type": "code",
      "source": [
        "df.to_csv(path_or_buf=\"MLoutput.csv\", header=header)"
      ],
      "metadata": {
        "id": "lwKIpzt4450C"
      },
      "execution_count": null,
      "outputs": []
    }
  ]
}